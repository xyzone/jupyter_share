{
 "cells": [
  {
   "cell_type": "code",
   "execution_count": 2,
   "metadata": {},
   "outputs": [
    {
     "name": "stdout",
     "output_type": "stream",
     "text": [
      "AAAAAAAABBBBBBBBCCccccaaaAbacB\n",
      "A8B8C2c4a3A1b1a1c1B1\n"
     ]
    }
   ],
   "source": [
    "# compress string \n",
    "test_param = 'AAAAAAAABBBBBBBBCCccccaaaAbacB'\n",
    "\n",
    "def compress_str(s):\n",
    "    print (s)\n",
    "    result = ''\n",
    "    str_len = len(s)\n",
    "    i = 0 \n",
    "    while i < str_len:\n",
    "        tmp = s[i]\n",
    "        i += 1  \n",
    "        count = 1\n",
    "        while i < str_len and s[i] == tmp:\n",
    "            count += 1\n",
    "            i += 1\n",
    "        result += '%s%d' % (tmp, count)\n",
    "          \n",
    "    return result \n",
    "print(compress_str(test_param))"
   ]
  },
  {
   "cell_type": "code",
   "execution_count": 3,
   "metadata": {},
   "outputs": [
    {
     "name": "stdout",
     "output_type": "stream",
     "text": [
      "['this', 'is', 'a', 'good', 'day']\n"
     ]
    }
   ],
   "source": [
    "test_param = '   this is a good day   '\n",
    "def split_str(s):\n",
    "    splitter = [' ']\n",
    "    str_len = len(s)\n",
    "    i = 0\n",
    "    words = []\n",
    "    while i < str_len:\n",
    "        if s[i] not in splitter:\n",
    "            start = i \n",
    "            i += 1\n",
    "            while i < str_len and s[i] not in splitter:\n",
    "                i += 1\n",
    "            words.append(s[start:i])   \n",
    "        else:\n",
    "            i += 1\n",
    "    return words\n",
    "\n",
    "print(split_str(test_param))  "
   ]
  },
  {
   "cell_type": "code",
   "execution_count": 10,
   "metadata": {},
   "outputs": [
    {
     "name": "stdout",
     "output_type": "stream",
     "text": [
      "False\n"
     ]
    }
   ],
   "source": [
    "test_param = 'aabCXSA'\n",
    "\n",
    "def uni_str(s1):\n",
    "    str_len = len(s1)\n",
    "    index = 0\n",
    "    for s in s1:\n",
    "        index += 1\n",
    "        if s in s1[index: str_len]:\n",
    "            return False \n",
    "    return True\n",
    "\n",
    "print(uni_str(test_param))"
   ]
  },
  {
   "cell_type": "code",
   "execution_count": null,
   "metadata": {},
   "outputs": [],
   "source": []
  },
  {
   "cell_type": "code",
   "execution_count": null,
   "metadata": {},
   "outputs": [],
   "source": []
  }
 ],
 "metadata": {
  "kernelspec": {
   "display_name": "Python 2",
   "language": "python",
   "name": "python2"
  },
  "language_info": {
   "codemirror_mode": {
    "name": "ipython",
    "version": 2
   },
   "file_extension": ".py",
   "mimetype": "text/x-python",
   "name": "python",
   "nbconvert_exporter": "python",
   "pygments_lexer": "ipython2",
   "version": "2.7.15rc1"
  }
 },
 "nbformat": 4,
 "nbformat_minor": 2
}
