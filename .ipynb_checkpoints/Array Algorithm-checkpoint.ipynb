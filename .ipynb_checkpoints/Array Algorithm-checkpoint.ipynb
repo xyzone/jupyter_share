{
 "cells": [
  {
   "cell_type": "code",
   "execution_count": 33,
   "metadata": {},
   "outputs": [
    {
     "name": "stdout",
     "output_type": "stream",
     "text": [
      "anagram_str True\n",
      "anagram_str_manual True\n"
     ]
    }
   ],
   "source": [
    "# Function anagram_str(s1, s2) used to detect does s1 and s2 contain exactly same alphabetical letters \n",
    "import re\n",
    "\n",
    "# by using sorted\n",
    "def anagram_str(s1, s2):\n",
    "    letter_filter = re.compile('[^a-zA-Z]')\n",
    "    s1 = sorted(letter_filter.sub('', s1.lower()))\n",
    "    s2 = sorted(letter_filter.sub('', s2.lower()))\n",
    "    return s1 == s2\n",
    "\n",
    "print 'anagram_str', anagram_str('SaBc', 'cb --- $%#S a')\n",
    "\n",
    "\n",
    "# by manual count each letter\n",
    "def anagram_str_manual(s1, s2):\n",
    "    letter_counter = {} \n",
    "    letter_filter = re.compile('[^a-zA-Z]')\n",
    "    s1 = letter_filter.sub('', s1.lower())\n",
    "    s2 = letter_filter.sub('', s2.lower())\n",
    "     \n",
    "    for letter in s1:\n",
    "        if letter not in letter_counter:\n",
    "            letter_counter[letter] = 1\n",
    "        else:\n",
    "            letter_counter[letter] += 1\n",
    "    for letter in s2:\n",
    "        if letter not in letter_counter:\n",
    "            letter_counter[letter] = 1\n",
    "        else:\n",
    "            letter_counter[letter] -= 1\n",
    "    for letter in letter_counter:\n",
    "        if letter_counter[letter] != 0:\n",
    "            return False\n",
    "    return True\n",
    "\n",
    "print 'anagram_str_manual', anagram_str_manual('SaBc', 'cb --- $%#S a')\n",
    "    "
   ]
  },
  {
   "cell_type": "code",
   "execution_count": 20,
   "metadata": {},
   "outputs": [
    {
     "name": "stdout",
     "output_type": "stream",
     "text": [
      "set([(0, 4), (1, 3), (-1, 5), (2, 2)])\n"
     ]
    }
   ],
   "source": [
    "# Function find_pair([1,2,3,4,5,6,7,4,4,42,2,3,4], total)\n",
    "\n",
    "def find_pair(int_list, sum_total):\n",
    "    checked_set = set()\n",
    "    matched_set = set()\n",
    "    \n",
    "    for i in int_list:\n",
    "        gap = sum_total - i\n",
    "        if gap in checked_set:\n",
    "            matched_set.add((min(gap, i), max(gap, i)))\n",
    "        else:\n",
    "            checked_set.add(i)\n",
    "    print matched_set\n",
    "\n",
    "find_pair([1,2,3,2,4,0,4,5,-1,-2,0,2], 4)\n",
    "\n",
    "\n"
   ]
  },
  {
   "cell_type": "code",
   "execution_count": 32,
   "metadata": {},
   "outputs": [
    {
     "name": "stdout",
     "output_type": "stream",
     "text": [
      "i!!!h.g.f,ed,cba\n"
     ]
    }
   ],
   "source": [
    "# reverse all letters and letter only in string\n",
    "import re\n",
    "def reverse_letter(input_str):\n",
    "    re_letter = re.compile('[^a-zA-Z]')\n",
    "    clean_letters = str(re_letter.sub('', input_str)) \n",
    "    input_list = list(clean_letters) \n",
    "    new_string = ''\n",
    "    for l in input_str: \n",
    "        if l.isalpha():\n",
    "            new_string += input_list[-1]\n",
    "            input_list.pop()\n",
    "        else:\n",
    "            new_string += l \n",
    "    return new_string\n",
    "    \n",
    "print reverse_letter('a!!!b.c.d,ef,ghi')\n",
    "     \n"
   ]
  },
  {
   "cell_type": "code",
   "execution_count": 16,
   "metadata": {},
   "outputs": [
    {
     "name": "stdout",
     "output_type": "stream",
     "text": [
      "befff\n"
     ]
    }
   ],
   "source": [
    "# Given two strings s1 and s2, remove those characters from first string which are present in second string. \n",
    "# Both the strings are different and contain only lowercase characters.\n",
    "import re\n",
    "def remove_duplicate(s1, s2): \n",
    "    common_letters = set(s1) - set(s2) \n",
    "    regex = re.compile('[^%s]' % ''.join(common_letters))\n",
    "    return regex.sub('', s1)\n",
    "    \n",
    "print remove_duplicate('bcacdefff', 'acd')    \n",
    "    \n",
    "    \n",
    "    "
   ]
  },
  {
   "cell_type": "code",
   "execution_count": null,
   "metadata": {},
   "outputs": [],
   "source": []
  },
  {
   "cell_type": "code",
   "execution_count": null,
   "metadata": {},
   "outputs": [],
   "source": []
  }
 ],
 "metadata": {
  "kernelspec": {
   "display_name": "Python 3",
   "language": "python",
   "name": "python3"
  },
  "language_info": {
   "codemirror_mode": {
    "name": "ipython",
    "version": 3
   },
   "file_extension": ".py",
   "mimetype": "text/x-python",
   "name": "python",
   "nbconvert_exporter": "python",
   "pygments_lexer": "ipython3",
   "version": "3.6.8"
  }
 },
 "nbformat": 4,
 "nbformat_minor": 2
}
