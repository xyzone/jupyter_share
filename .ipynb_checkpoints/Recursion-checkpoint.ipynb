{
 "cells": [
  {
   "cell_type": "code",
   "execution_count": 13,
   "metadata": {},
   "outputs": [
    {
     "name": "stdout",
     "output_type": "stream",
     "text": [
      "120\n"
     ]
    }
   ],
   "source": [
    "# Factorial \n",
    "def factorial(n):\n",
    "    if n <= 0:\n",
    "        return 1\n",
    "    return n * factorial(n-1)\n",
    "    \n",
    "print(factorial(5))"
   ]
  },
  {
   "cell_type": "code",
   "execution_count": 14,
   "metadata": {},
   "outputs": [
    {
     "name": "stdout",
     "output_type": "stream",
     "text": [
      "10\n"
     ]
    }
   ],
   "source": [
    "def rec_sum(n):\n",
    "    if n <= 0:\n",
    "        return 0\n",
    "    return n + rec_sum(n-1)\n",
    "print(rec_sum(4))"
   ]
  },
  {
   "cell_type": "code",
   "execution_count": 22,
   "metadata": {},
   "outputs": [
    {
     "name": "stdout",
     "output_type": "stream",
     "text": [
      "21\n"
     ]
    }
   ],
   "source": [
    "def rec_sum_integer(n):\n",
    "    n = str(n)\n",
    "    if not n:\n",
    "        return 0\n",
    "    left_i = n[0]\n",
    "    return int(left_i) + rec_sum_integer(n[1:])\n",
    "\n",
    "print(rec_sum_integer(123465))\n",
    "    "
   ]
  },
  {
   "cell_type": "code",
   "execution_count": 21,
   "metadata": {
    "scrolled": true
   },
   "outputs": [
    {
     "name": "stdout",
     "output_type": "stream",
     "text": [
      "['the', 'ran', 'man']\n",
      "['i', 'dogs', 'love', 'John']\n",
      "[]\n"
     ]
    }
   ],
   "source": [
    "def find_match(phrase, list_of_words): \n",
    "    if not list_of_words:\n",
    "        return False\n",
    "    word = list_of_words[0] \n",
    "    if word in phrase:\n",
    "        phrase = phrase.replace(word, '')  \n",
    "        if not phrase:\n",
    "            return [word]\n",
    "        check_result = [word]\n",
    "    else:\n",
    "        check_result = []     \n",
    "    next_check = find_match(phrase, list_of_words[1:])   \n",
    "    if next_check is False:\n",
    "        return False\n",
    "    return check_result + next_check\n",
    "     \n",
    "def word_split(phrase, list_of_words): \n",
    "    matchs = find_match(phrase, list_of_words)     \n",
    "    return matchs if matchs else []\n",
    "\n",
    "print (word_split('themanran',['the','ran','man']))        \n",
    "print (word_split('ilovedogsJohn',['i','am','a','dogs','lover','love','John']))\n",
    "print (word_split('themanran',['clown','ran','man', 'sys']))    \n",
    "    "
   ]
  },
  {
   "cell_type": "code",
   "execution_count": 10,
   "metadata": {},
   "outputs": [
    {
     "name": "stdout",
     "output_type": "stream",
     "text": [
      "987 654321\n",
      "gfe dcba\n"
     ]
    }
   ],
   "source": [
    "def reverse_str(s):\n",
    "    if not s:\n",
    "        return '' \n",
    "    return reverse_str(s[1:]) + s[0]\n",
    "\n",
    "print(reverse_str('123456 789'))\n",
    "print(reverse_str('abcd efg'))"
   ]
  },
  {
   "cell_type": "code",
   "execution_count": 45,
   "metadata": {},
   "outputs": [
    {
     "name": "stdout",
     "output_type": "stream",
     "text": [
      "['dcba', 'cdba', 'cbda', 'cbad', 'dbca', 'bdca', 'bcda', 'bcad', 'dbac', 'bdac', 'badc', 'bacd', 'dcab', 'cdab', 'cadb', 'cabd', 'dacb', 'adcb', 'acdb', 'acbd', 'dabc', 'adbc', 'abdc', 'abcd']\n"
     ]
    }
   ],
   "source": [
    "def permute_str(s, target_list):\n",
    "    new_list = []\n",
    "    \n",
    "    if not s:\n",
    "        return [''.join(a) for a in target_list]\n",
    "     \n",
    "    if not target_list:\n",
    "        new_list = [s[0]]\n",
    "    else:\n",
    "        for a in target_list:\n",
    "            for index in range(0, len(a) + 1): \n",
    "                temp_list = list(a)\n",
    "                temp_list.insert(index, s[0]) \n",
    "                new_list.append(temp_list) \n",
    "                \n",
    "    return permute_str(s[1:], new_list)\n",
    "                                        \n",
    "print(permute_str('abcd', []))\n",
    "    "
   ]
  },
  {
   "cell_type": "code",
   "execution_count": null,
   "metadata": {},
   "outputs": [],
   "source": []
  },
  {
   "cell_type": "code",
   "execution_count": 29,
   "metadata": {},
   "outputs": [
    {
     "data": {
      "text/plain": [
       "['abcd',\n",
       " 'abdc',\n",
       " 'acbd',\n",
       " 'acdb',\n",
       " 'adbc',\n",
       " 'adcb',\n",
       " 'bacd',\n",
       " 'badc',\n",
       " 'bcad',\n",
       " 'bcda',\n",
       " 'bdac',\n",
       " 'bdca',\n",
       " 'cabd',\n",
       " 'cadb',\n",
       " 'cbad',\n",
       " 'cbda',\n",
       " 'cdab',\n",
       " 'cdba',\n",
       " 'dabc',\n",
       " 'dacb',\n",
       " 'dbac',\n",
       " 'dbca',\n",
       " 'dcab',\n",
       " 'dcba']"
      ]
     },
     "execution_count": 29,
     "metadata": {},
     "output_type": "execute_result"
    }
   ],
   "source": [
    "def permute(s):\n",
    "    output = []\n",
    "    \n",
    "    if len(s) <= 1:\n",
    "        output=[s]\n",
    "    else:\n",
    "        for i, let in enumerate(s): \n",
    "            for perm in permute(s[:i]+s[i+1:]):  \n",
    "                output+=[let+perm]\n",
    "    return output\n",
    "permute('abcd')"
   ]
  },
  {
   "cell_type": "code",
   "execution_count": null,
   "metadata": {},
   "outputs": [],
   "source": [
    "def permute_new(s):\n",
    "    output = []\n",
    "    \n",
    "    if len(s) <= 1:\n",
    "        output=[s]\n",
    "    else:\n",
    "        for i, let in enumerate(s): \n",
    "            for perm in permute(s[:i]+s[i+1:]):  \n",
    "                output+=[let+perm]\n",
    "    return output\n",
    "permute('abcd')"
   ]
  },
  {
   "cell_type": "code",
   "execution_count": 20,
   "metadata": {},
   "outputs": [
    {
     "name": "stdout",
     "output_type": "stream",
     "text": [
      "55\n"
     ]
    }
   ],
   "source": [
    "def fibonacci(s):\n",
    "    if s == 0:\n",
    "        return 0\n",
    "    elif s == 1:\n",
    "        return 1\n",
    "    else: \n",
    "        return fibonacci(s-2) + fibonacci(s-1)\n",
    "\n",
    "print (fibonacci(10))\n",
    "    \n",
    "    "
   ]
  },
  {
   "cell_type": "raw",
   "metadata": {},
   "source": []
  },
  {
   "cell_type": "code",
   "execution_count": 21,
   "metadata": {},
   "outputs": [
    {
     "name": "stdout",
     "output_type": "stream",
     "text": [
      "55\n"
     ]
    }
   ],
   "source": [
    "def fibonacci(n):\n",
    "    a,b = 0,1\n",
    "    for i in range(n):\n",
    "      a,b = b, a+b\n",
    "    return a\n",
    "print (fibonacci(10))"
   ]
  },
  {
   "cell_type": "code",
   "execution_count": 25,
   "metadata": {},
   "outputs": [
    {
     "name": "stdout",
     "output_type": "stream",
     "text": [
      "2\n"
     ]
    }
   ],
   "source": [
    "def cal_min_coins(n, l):\n",
    "    if n <= 0:\n",
    "        return 0\n",
    "    # assume the min coin is $1\n",
    "    min_coin = n\n",
    "    cur_coin = 0\n",
    "    for coin in [x for x in l if x <=n]: \n",
    "        rest_amount = n - coin\n",
    "        min_coin = min(min_coin, 1 + cal_min_coins(rest_amount, l))\n",
    "    return min_coin\n",
    "\n",
    "print cal_min_coins(10, [1,5,7])"
   ]
  },
  {
   "cell_type": "code",
   "execution_count": 31,
   "metadata": {},
   "outputs": [
    {
     "name": "stdout",
     "output_type": "stream",
     "text": [
      "('', 'bcd')\n",
      "('a', 'cd')\n",
      "('ab', 'd')\n",
      "('abc', '')\n"
     ]
    },
    {
     "data": {
      "text/plain": [
       "[]"
      ]
     },
     "execution_count": 31,
     "metadata": {},
     "output_type": "execute_result"
    }
   ],
   "source": [
    " def permute(s):\n",
    "    output = []\n",
    "    \n",
    "    if len(s) <= 1:\n",
    "        output=[s]\n",
    "    else:\n",
    "        for i, let in enumerate(s): \n",
    "            print (s[:i], s[i+1:])\n",
    "            for perm in permute(s[:i]+s[i+1:]):  \n",
    "                output+=[let+perm]\n",
    "    return output\n",
    "permute('abcd')"
   ]
  },
  {
   "cell_type": "code",
   "execution_count": null,
   "metadata": {},
   "outputs": [],
   "source": []
  }
 ],
 "metadata": {
  "kernelspec": {
   "display_name": "Python 2",
   "language": "python",
   "name": "python2"
  },
  "language_info": {
   "codemirror_mode": {
    "name": "ipython",
    "version": 2
   },
   "file_extension": ".py",
   "mimetype": "text/x-python",
   "name": "python",
   "nbconvert_exporter": "python",
   "pygments_lexer": "ipython2",
   "version": "2.7.15rc1"
  }
 },
 "nbformat": 4,
 "nbformat_minor": 2
}
