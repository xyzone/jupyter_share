{
 "cells": [
  {
   "cell_type": "code",
   "execution_count": 10,
   "metadata": {},
   "outputs": [
    {
     "name": "stdout",
     "output_type": "stream",
     "text": [
      "120\n"
     ]
    }
   ],
   "source": [
    "# Factorial \n",
    "def factorial(n):\n",
    "    if n <= 0:\n",
    "        return 1\n",
    "    return n * factorial(n-1)\n",
    "    \n",
    "print(factorial(5))"
   ]
  },
  {
   "cell_type": "code",
   "execution_count": 14,
   "metadata": {},
   "outputs": [
    {
     "name": "stdout",
     "output_type": "stream",
     "text": [
      "10\n"
     ]
    }
   ],
   "source": [
    "def rec_sum(n):\n",
    "    if n <= 0:\n",
    "        return 0\n",
    "    return n + rec_sum(n-1)\n",
    "print(rec_sum(4))"
   ]
  },
  {
   "cell_type": "code",
   "execution_count": 22,
   "metadata": {},
   "outputs": [
    {
     "name": "stdout",
     "output_type": "stream",
     "text": [
      "21\n"
     ]
    }
   ],
   "source": [
    "def rec_sum_integer(n):\n",
    "    n = str(n)\n",
    "    if not n:\n",
    "        return 0\n",
    "    left_i = n[0]\n",
    "    return int(left_i) + rec_sum_integer(n[1:])\n",
    "\n",
    "print(rec_sum_integer(123465))\n",
    "    "
   ]
  },
  {
   "cell_type": "code",
   "execution_count": 21,
   "metadata": {
    "scrolled": true
   },
   "outputs": [
    {
     "name": "stdout",
     "output_type": "stream",
     "text": [
      "['the', 'ran', 'man']\n",
      "['i', 'dogs', 'love', 'John']\n",
      "[]\n"
     ]
    }
   ],
   "source": [
    "def find_match(phrase, list_of_words): \n",
    "    if not list_of_words:\n",
    "        return False\n",
    "    word = list_of_words[0] \n",
    "    if word in phrase:\n",
    "        phrase = phrase.replace(word, '')  \n",
    "        if not phrase:\n",
    "            return [word]\n",
    "        check_result = [word]\n",
    "    else:\n",
    "        check_result = []     \n",
    "    next_check = find_match(phrase, list_of_words[1:])   \n",
    "    if next_check is False:\n",
    "        return False\n",
    "    return check_result + next_check\n",
    "     \n",
    "def word_split(phrase, list_of_words): \n",
    "    matchs = find_match(phrase, list_of_words)     \n",
    "    return matchs if matchs else []\n",
    "\n",
    "print (word_split('themanran',['the','ran','man']))        \n",
    "print (word_split('ilovedogsJohn',['i','am','a','dogs','lover','love','John']))\n",
    "print (word_split('themanran',['clown','ran','man', 'sys']))    \n",
    "    "
   ]
  },
  {
   "cell_type": "code",
   "execution_count": null,
   "metadata": {},
   "outputs": [],
   "source": []
  },
  {
   "cell_type": "code",
   "execution_count": null,
   "metadata": {},
   "outputs": [],
   "source": []
  },
  {
   "cell_type": "code",
   "execution_count": null,
   "metadata": {},
   "outputs": [],
   "source": []
  },
  {
   "cell_type": "code",
   "execution_count": null,
   "metadata": {},
   "outputs": [],
   "source": []
  }
 ],
 "metadata": {
  "kernelspec": {
   "display_name": "Python 2",
   "language": "python",
   "name": "python2"
  },
  "language_info": {
   "codemirror_mode": {
    "name": "ipython",
    "version": 2
   },
   "file_extension": ".py",
   "mimetype": "text/x-python",
   "name": "python",
   "nbconvert_exporter": "python",
   "pygments_lexer": "ipython2",
   "version": "2.7.15rc1"
  }
 },
 "nbformat": 4,
 "nbformat_minor": 2
}
