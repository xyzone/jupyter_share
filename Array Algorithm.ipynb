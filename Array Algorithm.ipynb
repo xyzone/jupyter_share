{
 "cells": [
  {
   "cell_type": "code",
   "execution_count": 5,
   "metadata": {},
   "outputs": [
    {
     "name": "stdout",
     "output_type": "stream",
     "text": [
      "anagram_str True\n",
      "anagram_str_manual True\n"
     ]
    }
   ],
   "source": [
    "# Function anagram_str(s1, s2) used to detect does s1 and s2 contain exactly same alphabetical letters \n",
    "import re\n",
    "\n",
    "# by using sorted\n",
    "def anagram_str(s1, s2):\n",
    "    letter_filter = re.compile('[^a-zA-Z]')\n",
    "    s1 = sorted(letter_filter.sub('', s1.lower()))\n",
    "    s2 = sorted(letter_filter.sub('', s2.lower()))\n",
    "    return s1 == s2\n",
    "\n",
    "print ( 'anagram_str', anagram_str('SaBc', 'cb --- $%#S a'))\n",
    "\n",
    "\n",
    "# by manual count each letter\n",
    "def anagram_str_manual(s1, s2):\n",
    "    letter_counter = {} \n",
    "    letter_filter = re.compile('[^a-zA-Z]')\n",
    "    s1 = letter_filter.sub('', s1.lower())\n",
    "    s2 = letter_filter.sub('', s2.lower())\n",
    "     \n",
    "    for letter in s1:\n",
    "        if letter not in letter_counter:\n",
    "            letter_counter[letter] = 1\n",
    "        else:\n",
    "            letter_counter[letter] += 1\n",
    "    for letter in s2:\n",
    "        if letter not in letter_counter:\n",
    "            letter_counter[letter] = 1\n",
    "        else:\n",
    "            letter_counter[letter] -= 1\n",
    "    for letter in letter_counter:\n",
    "        if letter_counter[letter] != 0:\n",
    "            return False\n",
    "    return True\n",
    "\n",
    "print ('anagram_str_manual', anagram_str_manual('SaBc', 'cb --- $%#S a'))\n",
    "    "
   ]
  },
  {
   "cell_type": "code",
   "execution_count": 6,
   "metadata": {},
   "outputs": [
    {
     "name": "stdout",
     "output_type": "stream",
     "text": [
      "{(1, 3), (0, 4), (-1, 5), (2, 2)}\n"
     ]
    }
   ],
   "source": [
    "# Function find_pair([1,2,3,4,5,6,7,4,4,42,2,3,4], total)\n",
    "\n",
    "def find_pair(int_list, sum_total):\n",
    "    checked_set = set()\n",
    "    matched_set = set()\n",
    "    \n",
    "    for i in int_list:\n",
    "        gap = sum_total - i\n",
    "        if gap in checked_set:\n",
    "            matched_set.add((min(gap, i), max(gap, i)))\n",
    "        else:\n",
    "            checked_set.add(i)\n",
    "    return matched_set\n",
    "\n",
    "print(find_pair([1,2,3,2,4,0,4,5,-1,-2,0,2], 4))\n",
    "\n",
    "\n"
   ]
  },
  {
   "cell_type": "code",
   "execution_count": 7,
   "metadata": {},
   "outputs": [
    {
     "name": "stdout",
     "output_type": "stream",
     "text": [
      "i!!!h.g.f,ed,cba\n"
     ]
    }
   ],
   "source": [
    "# reverse all letters and letter only in string\n",
    "import re\n",
    "def reverse_letter(input_str):\n",
    "    re_letter = re.compile('[^a-zA-Z]')\n",
    "    clean_letters = str(re_letter.sub('', input_str)) \n",
    "    input_list = list(clean_letters) \n",
    "    new_string = ''\n",
    "    for l in input_str: \n",
    "        if l.isalpha():\n",
    "            new_string += input_list[-1]\n",
    "            input_list.pop()\n",
    "        else:\n",
    "            new_string += l \n",
    "    return new_string\n",
    "    \n",
    "print (reverse_letter('a!!!b.c.d,ef,ghi'))\n",
    "     \n"
   ]
  },
  {
   "cell_type": "code",
   "execution_count": 17,
   "metadata": {},
   "outputs": [
    {
     "name": "stdout",
     "output_type": "stream",
     "text": [
      "befff\n"
     ]
    }
   ],
   "source": [
    "# Given two strings s1 and s2, remove those characters from first string which are present in second string. \n",
    "# Both the strings are different and contain only lowercase characters.\n",
    "import re\n",
    "def remove_duplicate(s1, s2): \n",
    "    common_letters = set(s1) - set(s2) \n",
    "    regex = re.compile('[^%s]' % ''.join(common_letters))\n",
    "    return regex.sub('', s1)\n",
    "    \n",
    "print (remove_duplicate('bcacdefff', 'acd'))    \n",
    "    \n",
    "    \n",
    "    "
   ]
  },
  {
   "cell_type": "code",
   "execution_count": 32,
   "metadata": {},
   "outputs": [
    {
     "name": "stdout",
     "output_type": "stream",
     "text": [
      "defaultdict(<class 'int'>, {})\n",
      "defaultdict(<class 'int'>, {2: 1, 4: 1, 1: 1})\n",
      "None\n"
     ]
    }
   ],
   "source": [
    "# find missing elements on array 2 compare with array 1\n",
    "\n",
    "def find_missing_elem(a1, a2):\n",
    "    return list(set(a1) - set(a2))\n",
    "\n",
    "\n",
    "def find_missing_elem_zip(a1, a2):\n",
    "    a1.sort()\n",
    "    a2.sort()\n",
    "    for k, v in zip(a1,a2):\n",
    "        if k != v:\n",
    "            print ('Missing %s' % k)\n",
    "            return k\n",
    "\n",
    "import collections\n",
    "\n",
    "def find_missing_elem_col(a1, a2):\n",
    "    d = collections.defaultdict(int)\n",
    "    print (d)\n",
    "    for a in a2:\n",
    "        d[a] += 1\n",
    "    print (d)\n",
    "    \n",
    "print (find_missing_elem_col([1,2,3,3,4], [2,4,1]))\n",
    "    "
   ]
  },
  {
   "cell_type": "code",
   "execution_count": 42,
   "metadata": {},
   "outputs": [
    {
     "name": "stdout",
     "output_type": "stream",
     "text": [
      "defaultdict(<class 'list'>, {'TX': ['Austin', 'Houston', 'Dallas'], 'NY': ['Albany', 'Syracuse', 'Buffalo', 'Rochester'], 'CA': ['Sacramento', 'Palo Alto'], 'GA': ['Atlanta']})\n"
     ]
    },
    {
     "ename": "ModuleNotFoundError",
     "evalue": "No module named 'nose'",
     "output_type": "error",
     "traceback": [
      "\u001b[0;31m---------------------------------------------------------------------------\u001b[0m",
      "\u001b[0;31mModuleNotFoundError\u001b[0m                       Traceback (most recent call last)",
      "\u001b[0;32m<ipython-input-42-62d821e21d79>\u001b[0m in \u001b[0;36m<module>\u001b[0;34m()\u001b[0m\n\u001b[1;32m      9\u001b[0m \u001b[0;34m\u001b[0m\u001b[0m\n\u001b[1;32m     10\u001b[0m \u001b[0;34m\u001b[0m\u001b[0m\n\u001b[0;32m---> 11\u001b[0;31m \u001b[0;32mfrom\u001b[0m \u001b[0mnose\u001b[0m\u001b[0;34m.\u001b[0m\u001b[0mtools\u001b[0m \u001b[0;32mimport\u001b[0m \u001b[0masset_equal\u001b[0m\u001b[0;34m\u001b[0m\u001b[0;34m\u001b[0m\u001b[0m\n\u001b[0m",
      "\u001b[0;31mModuleNotFoundError\u001b[0m: No module named 'nose'"
     ]
    }
   ],
   "source": [
    "import collections \n",
    "\n",
    "city_list = [('TX','Austin'), ('TX','Houston'), ('NY','Albany'), ('NY', 'Syracuse'), ('NY', 'Buffalo'), ('NY', 'Rochester'), ('TX', 'Dallas'), ('CA','Sacramento'), ('CA', 'Palo Alto'), ('GA', 'Atlanta')]\n",
    "d = collections.defaultdict(list)\n",
    "for k, v in city_list:\n",
    "    d[k].append(v)\n",
    "    \n",
    "print (d)\n",
    "\n",
    "\n",
    "from nose.tools import asset_equal"
   ]
  },
  {
   "cell_type": "code",
   "execution_count": null,
   "metadata": {},
   "outputs": [],
   "source": []
  },
  {
   "cell_type": "code",
   "execution_count": null,
   "metadata": {},
   "outputs": [],
   "source": []
  }
 ],
 "metadata": {
  "kernelspec": {
   "display_name": "Python 3",
   "language": "python",
   "name": "python3"
  },
  "language_info": {
   "codemirror_mode": {
    "name": "ipython",
    "version": 3
   },
   "file_extension": ".py",
   "mimetype": "text/x-python",
   "name": "python",
   "nbconvert_exporter": "python",
   "pygments_lexer": "ipython3",
   "version": "3.6.8"
  }
 },
 "nbformat": 4,
 "nbformat_minor": 2
}
