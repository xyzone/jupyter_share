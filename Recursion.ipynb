{
 "cells": [
  {
   "cell_type": "code",
   "execution_count": 10,
   "metadata": {},
   "outputs": [
    {
     "name": "stdout",
     "output_type": "stream",
     "text": [
      "120\n"
     ]
    }
   ],
   "source": [
    "# Factorial \n",
    "def factorial(n):\n",
    "    if n <= 0:\n",
    "        return 1\n",
    "    return n * factorial(n-1)\n",
    "    \n",
    "print(factorial(5))"
   ]
  },
  {
   "cell_type": "code",
   "execution_count": 14,
   "metadata": {},
   "outputs": [
    {
     "name": "stdout",
     "output_type": "stream",
     "text": [
      "10\n"
     ]
    }
   ],
   "source": [
    "def rec_sum(n):\n",
    "    if n <= 0:\n",
    "        return 0\n",
    "    return n + rec_sum(n-1)\n",
    "print(rec_sum(4))"
   ]
  },
  {
   "cell_type": "code",
   "execution_count": 22,
   "metadata": {},
   "outputs": [
    {
     "name": "stdout",
     "output_type": "stream",
     "text": [
      "21\n"
     ]
    }
   ],
   "source": [
    "def rec_sum_integer(n):\n",
    "    n = str(n)\n",
    "    if not n:\n",
    "        return 0\n",
    "    left_i = n[0]\n",
    "    return int(left_i) + rec_sum_integer(n[1:])\n",
    "\n",
    "print(rec_sum_integer(123465))\n",
    "    "
   ]
  },
  {
   "cell_type": "code",
   "execution_count": 21,
   "metadata": {
    "scrolled": true
   },
   "outputs": [
    {
     "name": "stdout",
     "output_type": "stream",
     "text": [
      "['the', 'ran', 'man']\n",
      "['i', 'dogs', 'love', 'John']\n",
      "[]\n"
     ]
    }
   ],
   "source": [
    "def find_match(phrase, list_of_words): \n",
    "    if not list_of_words:\n",
    "        return False\n",
    "    word = list_of_words[0] \n",
    "    if word in phrase:\n",
    "        phrase = phrase.replace(word, '')  \n",
    "        if not phrase:\n",
    "            return [word]\n",
    "        check_result = [word]\n",
    "    else:\n",
    "        check_result = []     \n",
    "    next_check = find_match(phrase, list_of_words[1:])   \n",
    "    if next_check is False:\n",
    "        return False\n",
    "    return check_result + next_check\n",
    "     \n",
    "def word_split(phrase, list_of_words): \n",
    "    matchs = find_match(phrase, list_of_words)     \n",
    "    return matchs if matchs else []\n",
    "\n",
    "print (word_split('themanran',['the','ran','man']))        \n",
    "print (word_split('ilovedogsJohn',['i','am','a','dogs','lover','love','John']))\n",
    "print (word_split('themanran',['clown','ran','man', 'sys']))    \n",
    "    "
   ]
  },
  {
   "cell_type": "code",
   "execution_count": 10,
   "metadata": {},
   "outputs": [
    {
     "name": "stdout",
     "output_type": "stream",
     "text": [
      "987 654321\n",
      "gfe dcba\n"
     ]
    }
   ],
   "source": [
    "def reverse_str(s):\n",
    "    if not s:\n",
    "        return '' \n",
    "    return reverse_str(s[1:]) + s[0]\n",
    "\n",
    "print(reverse_str('123456 789'))\n",
    "print(reverse_str('abcd efg'))"
   ]
  },
  {
   "cell_type": "code",
   "execution_count": 24,
   "metadata": {},
   "outputs": [
    {
     "name": "stdout",
     "output_type": "stream",
     "text": [
      "['a']\n",
      "[['b', 'a'], ['a', 'b']]\n",
      "[['c', 'b', 'a'], ['b', 'c', 'a'], ['b', 'a', 'c'], ['c', 'a', 'b'], ['a', 'c', 'b'], ['a', 'b', 'c']]\n",
      "[['d', 'c', 'b', 'a'], ['c', 'd', 'b', 'a'], ['c', 'b', 'd', 'a'], ['c', 'b', 'a', 'd'], ['d', 'b', 'c', 'a'], ['b', 'd', 'c', 'a'], ['b', 'c', 'd', 'a'], ['b', 'c', 'a', 'd'], ['d', 'b', 'a', 'c'], ['b', 'd', 'a', 'c'], ['b', 'a', 'd', 'c'], ['b', 'a', 'c', 'd'], ['d', 'c', 'a', 'b'], ['c', 'd', 'a', 'b'], ['c', 'a', 'd', 'b'], ['c', 'a', 'b', 'd'], ['d', 'a', 'c', 'b'], ['a', 'd', 'c', 'b'], ['a', 'c', 'd', 'b'], ['a', 'c', 'b', 'd'], ['d', 'a', 'b', 'c'], ['a', 'd', 'b', 'c'], ['a', 'b', 'd', 'c'], ['a', 'b', 'c', 'd']]\n",
      "['dcba', 'cdba', 'cbda', 'cbad', 'dbca', 'bdca', 'bcda', 'bcad', 'dbac', 'bdac', 'badc', 'bacd', 'dcab', 'cdab', 'cadb', 'cabd', 'dacb', 'adcb', 'acdb', 'acbd', 'dabc', 'adbc', 'abdc', 'abcd']\n"
     ]
    }
   ],
   "source": [
    "def permute_str(s, target_list):\n",
    "    new_list = []\n",
    "    \n",
    "    if not s:\n",
    "        return [''.join(a) for a in target_list]\n",
    "     \n",
    "    if not target_list:\n",
    "        new_list = [s[0]]\n",
    "    else:\n",
    "        for a in target_list:\n",
    "            for b in range(0, len(a) + 1): \n",
    "                temp_list = list(a)\n",
    "                temp_list.insert(b, s[0]) \n",
    "                new_list.append(temp_list)\n",
    "    print (new_list)\n",
    "    return permute_str(s[1:], new_list)\n",
    "                                        \n",
    "print(permute_str('abcd', []))\n",
    "    "
   ]
  },
  {
   "cell_type": "code",
   "execution_count": 28,
   "metadata": {},
   "outputs": [
    {
     "name": "stdout",
     "output_type": "stream",
     "text": [
      "(0, 'a', 'bc')\n",
      "(0, 'b', 'c')\n",
      "c\n",
      "(1, 'c', 'b')\n",
      "b\n",
      "bc\n",
      "cb\n",
      "(1, 'b', 'ac')\n",
      "(0, 'a', 'c')\n",
      "c\n",
      "(1, 'c', 'a')\n",
      "a\n",
      "ac\n",
      "ca\n",
      "(2, 'c', 'ab')\n",
      "(0, 'a', 'b')\n",
      "b\n",
      "(1, 'b', 'a')\n",
      "a\n",
      "ab\n",
      "ba\n"
     ]
    },
    {
     "data": {
      "text/plain": [
       "['abc', 'acb', 'bac', 'bca', 'cab', 'cba']"
      ]
     },
     "execution_count": 28,
     "metadata": {},
     "output_type": "execute_result"
    }
   ],
   "source": [
    "def permute(s):\n",
    "    output = []\n",
    "    \n",
    "    if len(s) <= 1:\n",
    "        output=[s]\n",
    "    else:\n",
    "        for i, let in enumerate(s):\n",
    "            print (i, let, s[:i]+s[i+1:])\n",
    "            for perm in permute(s[:i]+s[i+1:]):\n",
    "                print (perm)\n",
    "                output+=[let+perm]\n",
    "    return output\n",
    "permute('abc')"
   ]
  },
  {
   "cell_type": "code",
   "execution_count": 34,
   "metadata": {},
   "outputs": [
    {
     "name": "stdout",
     "output_type": "stream",
     "text": [
      "55\n"
     ]
    }
   ],
   "source": [
    "def fibonacci(s):\n",
    "    if s == 0:\n",
    "        return 0\n",
    "    elif s == 1:\n",
    "        return 1\n",
    "    else: \n",
    "        return fibonacci(s-2) + fibonacci(s-1)\n",
    "\n",
    "print (fibonacci(10))\n",
    "    \n",
    "    "
   ]
  },
  {
   "cell_type": "raw",
   "metadata": {},
   "source": []
  },
  {
   "cell_type": "code",
   "execution_count": 35,
   "metadata": {},
   "outputs": [
    {
     "name": "stdout",
     "output_type": "stream",
     "text": [
      "55\n"
     ]
    }
   ],
   "source": [
    "def fibonacci(n):\n",
    "    a,b = 0,1\n",
    "    for i in range(n):\n",
    "      a,b = b, a+b\n",
    "    return a\n",
    "print (fibonacci(10))"
   ]
  },
  {
   "cell_type": "code",
   "execution_count": 47,
   "metadata": {},
   "outputs": [
    {
     "name": "stdout",
     "output_type": "stream",
     "text": [
      "(10, [1, 5, 7])\n",
      "matchs\n",
      "('ma_n', 1)\n",
      "('rest', 3)\n",
      "(3, [1, 5])\n",
      "('rest', 3)\n",
      "(3, [1])\n",
      "matchs\n",
      "('ma_n', 3)\n",
      "('rest', 0)\n",
      "(0, [])\n",
      "4\n"
     ]
    }
   ],
   "source": [
    "def min_coins(n, l):\n",
    "    print(n,l)\n",
    "    if n <= 0:\n",
    "        return 0\n",
    "    # always try last coin amount\n",
    "    lc = l[-1]\n",
    "    if n >= lc:\n",
    "        # matchs\n",
    "        print('matchs')\n",
    "        ma_n = int(n/lc)\n",
    "        print ('ma_n', ma_n)\n",
    "        rest = n - ma_n * lc\n",
    "    else:\n",
    "        ma_n = 0\n",
    "        rest = n\n",
    "    print ('rest', rest)\n",
    "    l.pop()\n",
    "    return ma_n + min_coins(rest, l)\n",
    "\n",
    "print min_coins(10, [1,5,7])"
   ]
  },
  {
   "cell_type": "code",
   "execution_count": 49,
   "metadata": {},
   "outputs": [
    {
     "name": "stdout",
     "output_type": "stream",
     "text": [
      "1\n",
      "1\n",
      "1\n",
      "5\n",
      "1\n",
      "1\n",
      "7\n",
      "5\n",
      "1\n",
      "1\n",
      "1\n",
      "7\n",
      "1\n",
      "5\n",
      "7\n",
      "1\n",
      "1\n",
      "2\n"
     ]
    }
   ],
   "source": [
    "def rec_coin(target,coins):\n",
    "    min_coins = target\n",
    "    \n",
    "    if target in coins:\n",
    "        return 1\n",
    "    else:\n",
    "        for value in [ c for c in coins if c<= target]:\n",
    "            print(value)\n",
    "            num_coins = rec_coin(target-value, coins) + 1\n",
    "            min_coins = min(num_coins, min_coins)\n",
    "    return min_coins\n",
    "    pass\n",
    "print (rec_coin(10,[1,5, 7]))"
   ]
  },
  {
   "cell_type": "code",
   "execution_count": null,
   "metadata": {},
   "outputs": [],
   "source": []
  }
 ],
 "metadata": {
  "kernelspec": {
   "display_name": "Python 2",
   "language": "python",
   "name": "python2"
  },
  "language_info": {
   "codemirror_mode": {
    "name": "ipython",
    "version": 2
   },
   "file_extension": ".py",
   "mimetype": "text/x-python",
   "name": "python",
   "nbconvert_exporter": "python",
   "pygments_lexer": "ipython2",
   "version": "2.7.15rc1"
  }
 },
 "nbformat": 4,
 "nbformat_minor": 2
}
