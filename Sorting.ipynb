{
 "cells": [
  {
   "cell_type": "code",
   "execution_count": 11,
   "metadata": {},
   "outputs": [
    {
     "data": {
      "text/plain": [
       "[11, 12, 22, 25, 64]"
      ]
     },
     "execution_count": 11,
     "metadata": {},
     "output_type": "execute_result"
    }
   ],
   "source": [
    "\"\"\"\n",
    "The selection sort algorithm sorts an array by repeatedly finding the minimum element\n",
    "(considering ascending order) from unsorted part and putting it at the beginning. \n",
    "The algorithm maintains two subarrays in a given array.\n",
    "\n",
    "1) The subarray which is already sorted.\n",
    "2) Remaining subarray which is unsorted.\n",
    "\n",
    "In every iteration of selection sort, the minimum element (considering ascending order) \n",
    "from the unsorted subarray is picked and moved to the sorted subarray.\n",
    "\"\"\"\n",
    "A = [64, 11, 12, 22, 25] \n",
    "\n",
    "def SelectionSort(l): \n",
    "    if not l:\n",
    "        return []\n",
    "    min_v = l[0]\n",
    "    for i in range(1, len(l)): \n",
    "        if min_v > l[i]:\n",
    "            # swap value\n",
    "            min_v, l[i] = l[i], min_v\n",
    "    return [min_v] + SelectionSort(l[1:])\n",
    "            \n",
    "SelectionSort(A)\n",
    "        "
   ]
  },
  {
   "cell_type": "code",
   "execution_count": 24,
   "metadata": {},
   "outputs": [
    {
     "name": "stdout",
     "output_type": "stream",
     "text": [
      "[11, 12, 22, 64, 25, 88]\n"
     ]
    }
   ],
   "source": [
    "A = [64, 11, 12, 22, 25, 88] \n",
    "# loop solution\n",
    "def BubbleSort(l): \n",
    "    for i, v in enumerate(l): \n",
    "        for j, sv in enumerate(l):\n",
    "            if v < sv:\n",
    "                # swap j and i\n",
    "                l[i], l[j] = l[j], l[i]\n",
    "    return l\n",
    "\n",
    "print (BubbleSort(A))\n",
    "  "
   ]
  },
  {
   "cell_type": "code",
   "execution_count": null,
   "metadata": {},
   "outputs": [],
   "source": [
    "# recursion\n",
    "def BubbleSortR(l):\n",
    "    for i, v in enumerate(l):\n",
    "        if v > l[i+1]:\n",
    "            \n",
    "              "
   ]
  }
 ],
 "metadata": {
  "kernelspec": {
   "display_name": "Python 2",
   "language": "python",
   "name": "python2"
  },
  "language_info": {
   "codemirror_mode": {
    "name": "ipython",
    "version": 2
   },
   "file_extension": ".py",
   "mimetype": "text/x-python",
   "name": "python",
   "nbconvert_exporter": "python",
   "pygments_lexer": "ipython2",
   "version": "2.7.15rc1"
  }
 },
 "nbformat": 4,
 "nbformat_minor": 2
}
